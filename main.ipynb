{
 "cells": [
  {
   "cell_type": "code",
   "execution_count": 36,
   "metadata": {},
   "outputs": [],
   "source": [
    "import pandas as pd \n",
    "import numpy as np\n",
    "\n",
    "import matplotlib.pyplot as plt\n",
    "import seaborn as sns\n"
   ]
  },
  {
   "cell_type": "markdown",
   "metadata": {},
   "source": [
    "Inizializzazione del dataset"
   ]
  },
  {
   "cell_type": "code",
   "execution_count": 3,
   "metadata": {},
   "outputs": [],
   "source": [
    "house_df = pd.read_csv('dataset/dataHouse.csv') #read dataset\n",
    "pd.set_option(\"display.max_columns\", 100) #displayed column range increased\n",
    "\n",
    "def set_new_index():\n",
    "    house_df.set_index('id', inplace=True) # set id column as new dataset index\n",
    "    \n",
    "set_new_index()"
   ]
  },
  {
   "cell_type": "markdown",
   "metadata": {},
   "source": [
    "Omogeneizzazione del tipo delle colonne:\n",
    "- da int64 a float64"
   ]
  },
  {
   "cell_type": "code",
   "execution_count": 56,
   "metadata": {},
   "outputs": [
    {
     "name": "stdout",
     "output_type": "stream",
     "text": [
      "object\n"
     ]
    }
   ],
   "source": [
    "def set_columns_type():\n",
    "    for column in house_df.columns: #loop through dataset colums\n",
    "        if house_df.dtypes[column] == np.int64 : #check column type\n",
    "            house_df[column]=house_df[column].astype(np.float64) #convert type from int64 to floa64     \n",
    "        if 'Year' in column: #check substring\n",
    "            house_df[column]=house_df[column].astype(np.object0) #convert label with \"Year\" substring into categorical label\n",
    "            \n",
    "set_columns_type()"
   ]
  },
  {
   "cell_type": "code",
   "execution_count": 59,
   "metadata": {},
   "outputs": [
    {
     "name": "stdout",
     "output_type": "stream",
     "text": [
      "CATEGORICAL: {'Foundation', 'Land_Contour', 'Garage_Type', 'Kitchen_Qual', 'Lot_Config', 'Bsmt_Exposure', 'Overall_Cond', 'Year_Built', 'House_Style', 'Bsmt_Cond', 'Alley', 'Year_Sold', 'Bsmt_Qual', 'Neighborhood', 'Roof_Matl', 'Fireplace_Qu', 'MS_Zoning', 'Heating_QC', 'Central_Air', 'Functional', 'Sale_Type', 'Street', 'Heating', 'Sale_Condition', 'Exterior_2nd', 'Garage_Qual', 'Electrical', 'BsmtFin_Type_2', 'Condition_1', 'Garage_Cond', 'Overall_Qual', 'Exter_Cond', 'Fence', 'Paved_Drive', 'Roof_Style', 'Year_Remod_Add', 'BsmtFin_Type_1', 'Bldg_Type', 'Misc_Feature', 'Condition_2', 'Lot_Shape', 'Utilities', 'Pool_QC', 'Mas_Vnr_Type', 'Exterior_1st', 'Exter_Qual', 'Garage_Finish', 'MS_SubClass', 'Land_Slope'}\n",
      "NUMERICAL: {'Bedroom_AbvGr', 'Second_Flr_SF', 'Garage_Area', 'Lot_Area', 'Latitude', 'Bsmt_Half_Bath', 'Three_season_porch', 'Half_Bath', 'Mas_Vnr_Area', 'Misc_Val', 'Open_Porch_SF', 'Longitude', 'Fireplaces', 'Mo_Sold', 'BsmtFin_SF_2', 'First_Flr_SF', 'Screen_Porch', 'Full_Bath', 'TotRms_AbvGrd', 'Sale_Price', 'BsmtFin_SF_1', 'Bsmt_Full_Bath', 'Kitchen_AbvGr', 'Wood_Deck_SF', 'Bsmt_Unf_SF', 'Low_Qual_Fin_SF', 'Enclosed_Porch', 'Garage_Cars', 'Lot_Frontage', 'Total_Bsmt_SF', 'Pool_Area', 'Gr_Liv_Area'}\n"
     ]
    }
   ],
   "source": [
    "\n",
    "ALL_COLUMNS = set(house_df.columns.array) #create set with all column name\n",
    "NUMERICAL_COLUMNS = set(house_df._get_numeric_data().columns) #NUMERICAL COLUMNS SET\n",
    "CATEGORICAL_COLUMNS = (ALL_COLUMNS - NUMERICAL_COLUMNS ) # CATEGORICAL COLUMNS SET\n",
    "print(f\"CATEGORICAL: {CATEGORICAL_COLUMNS}\")\n",
    "print(f\"NUMERICAL: {NUMERICAL_COLUMNS}\")\n"
   ]
  },
  {
   "cell_type": "code",
   "execution_count": 27,
   "metadata": {},
   "outputs": [
    {
     "name": "stdout",
     "output_type": "stream",
     "text": [
      "Alley: N° 3 - {'No_Alley_Access', 'Paved', 'Gravel'} \n",
      "Bldg_Type: N° 5 - {'TwnhsE', 'Duplex', 'TwoFmCon', 'Twnhs', 'OneFam'} \n",
      "BsmtFin_Type_1: N° 7 - {'LwQ', 'Rec', 'BLQ', 'GLQ', 'Unf', 'No_Basement', 'ALQ'} \n",
      "BsmtFin_Type_2: N° 7 - {'LwQ', 'Rec', 'BLQ', 'GLQ', 'Unf', 'No_Basement', 'ALQ'} \n",
      "Bsmt_Cond: N° 6 - {'Good', 'Typical', 'Excellent', 'Poor', 'No_Basement', 'Fair'} \n",
      "Bsmt_Exposure: N° 5 - {'No', 'Av', 'No_Basement', 'Gd', 'Mn'} \n",
      "Bsmt_Qual: N° 6 - {'Good', 'Typical', 'Excellent', 'Fair', 'No_Basement', 'Poor'} \n",
      "Central_Air: N° 2 - {'Y', 'N'} \n",
      "Condition_1: N° 9 - {'PosA', 'RRAn', 'PosN', 'Feedr', 'RRNe', 'Artery', 'Norm', 'RRNn', 'RRAe'} \n",
      "Condition_2: N° 8 - {'PosA', 'RRAn', 'PosN', 'Feedr', 'Artery', 'Norm', 'RRNn', 'RRAe'} \n",
      "Electrical: N° 6 - {'Mix', 'Unknown', 'FuseF', 'FuseA', 'SBrkr', 'FuseP'} \n",
      "Exter_Cond: N° 5 - {'Good', 'Typical', 'Excellent', 'Fair', 'Poor'} \n",
      "Exter_Qual: N° 4 - {'Fair', 'Good', 'Typical', 'Excellent'} \n",
      "Exterior_1st: N° 16 - {'PreCast', 'Stone', 'Stucco', 'HdBoard', 'BrkComm', 'CBlock', 'MetalSd', 'ImStucc', 'BrkFace', 'AsphShn', 'AsbShng', 'VinylSd', 'CemntBd', 'Plywood', 'Wd Sdng', 'WdShing'} \n",
      "Exterior_2nd: N° 17 - {'PreCast', 'Stone', 'Stucco', 'HdBoard', 'CBlock', 'Wd Shng', 'MetalSd', 'ImStucc', 'BrkFace', 'CmentBd', 'AsphShn', 'AsbShng', 'VinylSd', 'Plywood', 'Other', 'Wd Sdng', 'Brk Cmn'} \n",
      "Fence: N° 5 - {'No_Fence', 'Minimum_Privacy', 'Minimum_Wood_Wire', 'Good_Privacy', 'Good_Wood'} \n",
      "Fireplace_Qu: N° 6 - {'Good', 'No_Fireplace', 'Typical', 'Excellent', 'Poor', 'Fair'} \n",
      "Foundation: N° 6 - {'Stone', 'Slab', 'PConc', 'CBlock', 'BrkTil', 'Wood'} \n",
      "Functional: N° 8 - {'Min1', 'Maj1', 'Sal', 'Min2', 'Mod', 'Sev', 'Typ', 'Maj2'} \n",
      "Garage_Cond: N° 6 - {'Good', 'Typical', 'Excellent', 'Fair', 'Poor', 'No_Garage'} \n",
      "Garage_Finish: N° 4 - {'Fin', 'Unf', 'No_Garage', 'RFn'} \n",
      "Garage_Qual: N° 6 - {'Good', 'Typical', 'Excellent', 'Fair', 'Poor', 'No_Garage'} \n",
      "Garage_Type: N° 7 - {'Attchd', 'Detchd', 'CarPort', 'BuiltIn', 'Basment', 'No_Garage', 'More_Than_Two_Types'} \n",
      "Heating: N° 6 - {'Grav', 'GasA', 'Floor', 'OthW', 'GasW', 'Wall'} \n",
      "Heating_QC: N° 5 - {'Good', 'Typical', 'Excellent', 'Fair', 'Poor'} \n",
      "House_Style: N° 8 - {'One_and_Half_Fin', 'SFoyer', 'One_Story', 'SLvl', 'Two_and_Half_Unf', 'Two_and_Half_Fin', 'One_and_Half_Unf', 'Two_Story'} \n",
      "Kitchen_Qual: N° 5 - {'Good', 'Typical', 'Excellent', 'Fair', 'Poor'} \n",
      "Land_Contour: N° 4 - {'Low', 'HLS', 'Lvl', 'Bnk'} \n",
      "Land_Slope: N° 3 - {'Sev', 'Mod', 'Gtl'} \n",
      "Lot_Config: N° 5 - {'Corner', 'Inside', 'FR3', 'FR2', 'CulDSac'} \n",
      "Lot_Shape: N° 4 - {'Irregular', 'Slightly_Irregular', 'Moderately_Irregular', 'Regular'} \n",
      "MS_SubClass: N° 16 - {'One_Story_with_Finished_Attic_All_Ages', 'Two_Story_1946_and_Newer', 'Two_Story_1945_and_Older', 'One_and_Half_Story_Unfinished_All_Ages', 'Duplex_All_Styles_and_Ages', 'PUD_Multilevel_Split_Level_Foyer', 'Two_Story_PUD_1946_and_Newer', 'Split_or_Multilevel', 'Two_and_Half_Story_All_Ages', 'One_and_Half_Story_Finished_All_Ages', 'One_Story_1946_and_Newer_All_Styles', 'One_Story_PUD_1946_and_Newer', 'Two_Family_conversion_All_Styles_and_Ages', 'One_and_Half_Story_PUD_All_Ages', 'One_Story_1945_and_Older', 'Split_Foyer'} \n",
      "MS_Zoning: N° 7 - {'Residential_Medium_Density', 'I_all', 'Floating_Village_Residential', 'C_all', 'Residential_Low_Density', 'A_agr', 'Residential_High_Density'} \n",
      "Mas_Vnr_Type: N° 5 - {'Stone', 'BrkCmn', 'CBlock', 'BrkFace', 'None'} \n",
      "Misc_Feature: N° 6 - {'Othr', 'Gar2', 'Elev', 'None', 'Shed', 'TenC'} \n",
      "Neighborhood: N° 28 - {'Blueste', 'Bloomington_Heights', 'Sawyer_West', 'College_Creek', 'Green_Hills', 'Briardale', 'Stone_Brook', 'Somerset', 'Veenker', 'Gilbert', 'Sawyer', 'Meadow_Village', 'Brookside', 'Landmark', 'North_Ames', 'Greens', 'Northridge', 'Clear_Creek', 'Edwards', 'Iowa_DOT_and_Rail_Road', 'Northridge_Heights', 'Northwest_Ames', 'South_and_West_of_Iowa_State_University', 'Crawford', 'Mitchell', 'Old_Town', 'Timberland', 'Northpark_Villa'} \n",
      "Overall_Cond: N° 9 - {'Good', 'Average', 'Below_Average', 'Above_Average', 'Excellent', 'Poor', 'Very_Good', 'Fair', 'Very_Poor'} \n",
      "Overall_Qual: N° 10 - {'Good', 'Average', 'Below_Average', 'Very_Excellent', 'Above_Average', 'Excellent', 'Very_Good', 'Fair', 'Poor', 'Very_Poor'} \n",
      "Paved_Drive: N° 3 - {'Dirt_Gravel', 'Paved', 'Partial_Pavement'} \n",
      "Pool_QC: N° 5 - {'Good', 'Typical', 'Excellent', 'Fair', 'No_Pool'} \n",
      "Roof_Matl: N° 8 - {'Tar&Grv', 'Roll', 'Metal', 'WdShngl', 'WdShake', 'ClyTile', 'Membran', 'CompShg'} \n",
      "Roof_Style: N° 6 - {'Gambrel', 'Flat', 'Shed', 'Hip', 'Mansard', 'Gable'} \n",
      "Sale_Condition: N° 6 - {'Partial', 'Normal', 'Abnorml', 'Alloca', 'AdjLand', 'Family'} \n",
      "Sale_Type: N° 10 - {'ConLw', 'VWD', 'COD', 'WD ', 'ConLI', 'Con', 'ConLD', 'Oth', 'New', 'CWD'} \n",
      "Street: N° 2 - {'Grvl', 'Pave'} \n",
      "Utilities: N° 3 - {'NoSewr', 'AllPub', 'NoSeWa'} \n"
     ]
    }
   ],
   "source": [
    "def print_unique_column_values(column_name):\n",
    "    #print(f\"{set(house_df[column_name])}\")\n",
    "    print(f\"{column_name}: N° {len(set(house_df[column_name]))} - {(set(house_df[column_name]))} \")\n",
    "\n",
    "for column in sorted(CATEGORICAL_COLUMNS):\n",
    "    print_unique_column_values(column)"
   ]
  },
  {
   "cell_type": "code",
   "execution_count": 43,
   "metadata": {},
   "outputs": [
    {
     "data": {
      "image/png": "[encoded data removed]",
      "text/plain": [
       "<Figure size 640x480 with 1 Axes>"
      ]
     },
     "metadata": {},
     "output_type": "display_data"
    }
   ],
   "source": [
    "def print_boxplot(x_axix, y_axix):\n",
    "    sns.boxplot(data=house_df, x=x_axix, y=y_axix)\n",
    "\n",
    "print_boxplot(\"Kitchen_Qual\", \"Sale_Price\")"
   ]
  }
 ],
 "metadata": {
  "kernelspec": {
   "display_name": "Python 3.9.12 ('conda-env': conda)",
   "language": "python",
   "name": "python3"
  },
  "language_info": {
   "codemirror_mode": {
    "name": "ipython",
    "version": 3
   },
   "file_extension": ".py",
   "mimetype": "text/x-python",
   "name": "python",
   "nbconvert_exporter": "python",
   "pygments_lexer": "ipython3",
   "version": "3.9.12"
  },
  "orig_nbformat": 4,
  "vscode": {
   "interpreter": {
    "hash": "b8cb1c1995f8a6c822022803632a8a48af459d10fa7843fdca6befb9a831b1b6"
   }
  }
 },
 "nbformat": 4,
 "nbformat_minor": 2
}
