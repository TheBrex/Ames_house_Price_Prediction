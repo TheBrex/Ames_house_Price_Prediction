{
 "cells": [
  {
   "cell_type": "code",
   "execution_count": 1,
   "metadata": {},
   "outputs": [],
   "source": [
    "import pandas as pd \n",
    "import numpy as np\n",
    "from scipy.io import arff\n",
    "import matplotlib.pyplot as plt\n",
    "\n"
   ]
  },
  {
   "cell_type": "markdown",
   "metadata": {},
   "source": [
    "Inizializzazione del dataset"
   ]
  },
  {
   "cell_type": "code",
   "execution_count": 24,
   "metadata": {},
   "outputs": [],
   "source": [
    "house_df = pd.read_csv('dataset/dataHouse.csv') #read dataset\n",
    "\n",
    "def set_new_index():\n",
    "    house_df.set_index('id', inplace=True) # set id column as new dataset index"
   ]
  },
  {
   "cell_type": "markdown",
   "metadata": {},
   "source": [
    "Omogeneizzazione del tipo delle colonne:\n",
    "- da int64 a float64"
   ]
  },
  {
   "cell_type": "code",
   "execution_count": 30,
   "metadata": {},
   "outputs": [],
   "source": [
    "def set_columns_type():\n",
    "    for column in house_df.columns: #loop through dataset colums\n",
    "        if house_df.dtypes[column] == np.int64 : #check column type\n",
    "            house_df[column]=house_df[column].astype(np.float64) #convert type from int64 to floa64\n",
    "    "
   ]
  },
  {
   "cell_type": "code",
   "execution_count": 34,
   "metadata": {},
   "outputs": [
    {
     "data": {
      "text/plain": [
       "MS_SubClass        object\n",
       "MS_Zoning          object\n",
       "Lot_Frontage      float64\n",
       "Lot_Area          float64\n",
       "Street             object\n",
       "                   ...   \n",
       "Sale_Type          object\n",
       "Sale_Condition     object\n",
       "Sale_Price        float64\n",
       "Longitude         float64\n",
       "Latitude          float64\n",
       "Length: 81, dtype: object"
      ]
     },
     "execution_count": 34,
     "metadata": {},
     "output_type": "execute_result"
    }
   ],
   "source": [
    "house_df.dtypes.head(90)"
   ]
  }
 ],
 "metadata": {
  "kernelspec": {
   "display_name": "Python 3.9.12 ('conda-env': conda)",
   "language": "python",
   "name": "python3"
  },
  "language_info": {
   "codemirror_mode": {
    "name": "ipython",
    "version": 3
   },
   "file_extension": ".py",
   "mimetype": "text/x-python",
   "name": "python",
   "nbconvert_exporter": "python",
   "pygments_lexer": "ipython3",
   "version": "3.9.12"
  },
  "orig_nbformat": 4,
  "vscode": {
   "interpreter": {
    "hash": "b8cb1c1995f8a6c822022803632a8a48af459d10fa7843fdca6befb9a831b1b6"
   }
  }
 },
 "nbformat": 4,
 "nbformat_minor": 2
}
